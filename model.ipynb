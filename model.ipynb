{
 "cells": [
  {
   "cell_type": "code",
   "execution_count": 1,
   "metadata": {},
   "outputs": [],
   "source": [
    "### import libraries\n",
    "import os\n",
    "import tensorflow as tf\n",
    "import numpy as np"
   ]
  },
  {
   "cell_type": "code",
   "execution_count": 8,
   "metadata": {},
   "outputs": [
    {
     "name": "stdout",
     "output_type": "stream",
     "text": [
      "Found 498 images belonging to 2 classes.\n",
      "Found 500 images belonging to 2 classes.\n"
     ]
    }
   ],
   "source": [
    "## DATASET\n",
    "datagen = tf.keras.preprocessing.image.ImageDataGenerator(rescale=1./255)\n",
    "\n",
    "train_path = 'train/'\n",
    "train_generator = datagen.flow_from_directory(train_path, shuffle=True, target_size=(224,224))\n",
    "\n",
    "test_path = 'test/'\n",
    "test_generator = datagen.flow_from_directory(test_path, shuffle=True, target_size=(224,224))"
   ]
  },
  {
   "cell_type": "code",
   "execution_count": 9,
   "metadata": {},
   "outputs": [],
   "source": [
    "## model\n",
    "\n",
    "def build_model(num_classes):\n",
    "    model = tf.keras.Sequential([\n",
    "    tf.keras.layers.Conv2D(filters=8, kernel_size=(3, 3), activation='relu', \n",
    "                           input_shape=(224, 224, 3)),\n",
    "    tf.keras.layers.MaxPooling2D(pool_size=(2, 2), strides=2),\n",
    "    tf.keras.layers.Conv2D(filters=16, kernel_size=(3, 3), activation='relu'),\n",
    "    tf.keras.layers.MaxPooling2D(pool_size=(2, 2), strides=2),\n",
    "    tf.keras.layers.Conv2D(filters=32, kernel_size=(3, 3), activation='relu'),\n",
    "    tf.keras.layers.MaxPooling2D(pool_size=(2, 2), strides=2),\n",
    "    tf.keras.layers.Flatten(),\n",
    "    tf.keras.layers.Dense(64, activation='relu'),\n",
    "    tf.keras.layers.Dense(num_classes, activation='softmax')\n",
    "    ])\n",
    "    return model\n",
    "\n",
    "\n",
    "## create model \n",
    "model = build_model(2)"
   ]
  },
  {
   "cell_type": "code",
   "execution_count": 10,
   "metadata": {},
   "outputs": [
    {
     "name": "stdout",
     "output_type": "stream",
     "text": [
      "Model: \"sequential_1\"\n",
      "_________________________________________________________________\n",
      " Layer (type)                Output Shape              Param #   \n",
      "=================================================================\n",
      " conv2d_3 (Conv2D)           (None, 222, 222, 8)       224       \n",
      "                                                                 \n",
      " max_pooling2d_3 (MaxPooling  (None, 111, 111, 8)      0         \n",
      " 2D)                                                             \n",
      "                                                                 \n",
      " conv2d_4 (Conv2D)           (None, 109, 109, 16)      1168      \n",
      "                                                                 \n",
      " max_pooling2d_4 (MaxPooling  (None, 54, 54, 16)       0         \n",
      " 2D)                                                             \n",
      "                                                                 \n",
      " conv2d_5 (Conv2D)           (None, 52, 52, 32)        4640      \n",
      "                                                                 \n",
      " max_pooling2d_5 (MaxPooling  (None, 26, 26, 32)       0         \n",
      " 2D)                                                             \n",
      "                                                                 \n",
      " flatten_1 (Flatten)         (None, 21632)             0         \n",
      "                                                                 \n",
      " dense_2 (Dense)             (None, 64)                1384512   \n",
      "                                                                 \n",
      " dense_3 (Dense)             (None, 2)                 130       \n",
      "                                                                 \n",
      "=================================================================\n",
      "Total params: 1,390,674\n",
      "Trainable params: 1,390,674\n",
      "Non-trainable params: 0\n",
      "_________________________________________________________________\n"
     ]
    }
   ],
   "source": [
    "model.summary()"
   ]
  },
  {
   "cell_type": "code",
   "execution_count": 11,
   "metadata": {},
   "outputs": [],
   "source": [
    "model.compile(tf.keras.optimizers.Adam(learning_rate=0.001), \n",
    "loss = tf.keras.losses.BinaryCrossentropy(from_logits=True),\n",
    "metrics = ['accuracy'])"
   ]
  },
  {
   "cell_type": "code",
   "execution_count": 13,
   "metadata": {},
   "outputs": [
    {
     "name": "stdout",
     "output_type": "stream",
     "text": [
      "Epoch 1/50\n",
      "16/16 [==============================] - 1s 89ms/step - loss: 0.6247 - accuracy: 0.6486\n",
      "Epoch 2/50\n",
      "16/16 [==============================] - 1s 89ms/step - loss: 0.5788 - accuracy: 0.6908\n",
      "Epoch 3/50\n",
      "16/16 [==============================] - 1s 85ms/step - loss: 0.5645 - accuracy: 0.7329\n",
      "Epoch 4/50\n",
      "16/16 [==============================] - 2s 94ms/step - loss: 0.5161 - accuracy: 0.7811\n",
      "Epoch 5/50\n",
      "16/16 [==============================] - 2s 107ms/step - loss: 0.4550 - accuracy: 0.7992\n",
      "Epoch 6/50\n",
      "16/16 [==============================] - 2s 97ms/step - loss: 0.3651 - accuracy: 0.8574\n",
      "Epoch 7/50\n",
      "16/16 [==============================] - 1s 90ms/step - loss: 0.2885 - accuracy: 0.8876\n",
      "Epoch 8/50\n",
      "16/16 [==============================] - 2s 93ms/step - loss: 0.2096 - accuracy: 0.9337\n",
      "Epoch 9/50\n",
      "16/16 [==============================] - 1s 90ms/step - loss: 0.1763 - accuracy: 0.9418\n",
      "Epoch 10/50\n",
      "16/16 [==============================] - 1s 90ms/step - loss: 0.1079 - accuracy: 0.9779\n",
      "Epoch 11/50\n",
      "16/16 [==============================] - 1s 92ms/step - loss: 0.0834 - accuracy: 0.9880\n",
      "Epoch 12/50\n",
      "16/16 [==============================] - 1s 89ms/step - loss: 0.0509 - accuracy: 0.9900\n",
      "Epoch 13/50\n",
      "16/16 [==============================] - 1s 89ms/step - loss: 0.0268 - accuracy: 0.9980\n",
      "Epoch 14/50\n",
      "16/16 [==============================] - 2s 92ms/step - loss: 0.0198 - accuracy: 0.9980\n",
      "Epoch 15/50\n",
      "16/16 [==============================] - 2s 96ms/step - loss: 0.0121 - accuracy: 1.0000\n",
      "Epoch 16/50\n",
      "16/16 [==============================] - 2s 114ms/step - loss: 0.0075 - accuracy: 1.0000\n",
      "Epoch 17/50\n",
      "16/16 [==============================] - 2s 90ms/step - loss: 0.0056 - accuracy: 1.0000\n",
      "Epoch 18/50\n",
      "16/16 [==============================] - 2s 96ms/step - loss: 0.0042 - accuracy: 1.0000\n",
      "Epoch 19/50\n",
      "16/16 [==============================] - 2s 93ms/step - loss: 0.0036 - accuracy: 1.0000\n",
      "Epoch 20/50\n",
      "16/16 [==============================] - 2s 91ms/step - loss: 0.0032 - accuracy: 1.0000\n",
      "Epoch 21/50\n",
      "16/16 [==============================] - 1s 94ms/step - loss: 0.0028 - accuracy: 1.0000\n",
      "Epoch 22/50\n",
      "16/16 [==============================] - 2s 93ms/step - loss: 0.0024 - accuracy: 1.0000\n",
      "Epoch 23/50\n",
      "16/16 [==============================] - 2s 107ms/step - loss: 0.0018 - accuracy: 1.0000\n",
      "Epoch 24/50\n",
      "16/16 [==============================] - 2s 101ms/step - loss: 0.0017 - accuracy: 1.0000\n",
      "Epoch 25/50\n",
      "16/16 [==============================] - 2s 116ms/step - loss: 0.0014 - accuracy: 1.0000\n",
      "Epoch 26/50\n",
      "16/16 [==============================] - 2s 136ms/step - loss: 0.0012 - accuracy: 1.0000\n",
      "Epoch 27/50\n",
      "16/16 [==============================] - 2s 141ms/step - loss: 0.0011 - accuracy: 1.0000\n",
      "Epoch 28/50\n",
      "16/16 [==============================] - 2s 134ms/step - loss: 9.6725e-04 - accuracy: 1.0000\n",
      "Epoch 29/50\n",
      "16/16 [==============================] - 2s 133ms/step - loss: 8.8665e-04 - accuracy: 1.0000\n",
      "Epoch 30/50\n",
      "16/16 [==============================] - 2s 136ms/step - loss: 8.2248e-04 - accuracy: 1.0000\n",
      "Epoch 31/50\n",
      "16/16 [==============================] - 2s 131ms/step - loss: 7.4221e-04 - accuracy: 1.0000\n",
      "Epoch 32/50\n",
      "16/16 [==============================] - 2s 135ms/step - loss: 6.8167e-04 - accuracy: 1.0000\n",
      "Epoch 33/50\n",
      "16/16 [==============================] - 2s 107ms/step - loss: 6.2840e-04 - accuracy: 1.0000\n",
      "Epoch 34/50\n",
      "16/16 [==============================] - 2s 93ms/step - loss: 6.0741e-04 - accuracy: 1.0000\n",
      "Epoch 35/50\n",
      "16/16 [==============================] - 2s 91ms/step - loss: 5.5646e-04 - accuracy: 1.0000\n",
      "Epoch 36/50\n",
      "16/16 [==============================] - 2s 102ms/step - loss: 5.2400e-04 - accuracy: 1.0000\n",
      "Epoch 37/50\n",
      "16/16 [==============================] - 2s 94ms/step - loss: 4.9836e-04 - accuracy: 1.0000\n",
      "Epoch 38/50\n",
      "16/16 [==============================] - 2s 100ms/step - loss: 4.6305e-04 - accuracy: 1.0000\n",
      "Epoch 39/50\n",
      "16/16 [==============================] - 2s 92ms/step - loss: 4.2360e-04 - accuracy: 1.0000\n",
      "Epoch 40/50\n",
      "16/16 [==============================] - 2s 132ms/step - loss: 4.0802e-04 - accuracy: 1.0000\n",
      "Epoch 41/50\n",
      "16/16 [==============================] - 2s 140ms/step - loss: 3.7274e-04 - accuracy: 1.0000\n",
      "Epoch 42/50\n",
      "16/16 [==============================] - 2s 141ms/step - loss: 3.5523e-04 - accuracy: 1.0000\n",
      "Epoch 43/50\n",
      "16/16 [==============================] - 2s 135ms/step - loss: 3.4330e-04 - accuracy: 1.0000\n",
      "Epoch 44/50\n",
      "16/16 [==============================] - 2s 141ms/step - loss: 3.2088e-04 - accuracy: 1.0000\n",
      "Epoch 45/50\n",
      "16/16 [==============================] - 2s 135ms/step - loss: 3.0336e-04 - accuracy: 1.0000\n",
      "Epoch 46/50\n",
      "16/16 [==============================] - 2s 133ms/step - loss: 2.8704e-04 - accuracy: 1.0000\n",
      "Epoch 47/50\n",
      "16/16 [==============================] - 2s 131ms/step - loss: 2.7588e-04 - accuracy: 1.0000\n",
      "Epoch 48/50\n",
      "16/16 [==============================] - 2s 132ms/step - loss: 2.7083e-04 - accuracy: 1.0000\n",
      "Epoch 49/50\n",
      "16/16 [==============================] - 2s 135ms/step - loss: 2.5295e-04 - accuracy: 1.0000\n",
      "Epoch 50/50\n",
      "16/16 [==============================] - 2s 97ms/step - loss: 2.3620e-04 - accuracy: 1.0000\n"
     ]
    }
   ],
   "source": [
    "history = model.fit(train_generator, epochs=50, verbose=1)"
   ]
  },
  {
   "cell_type": "code",
   "execution_count": 14,
   "metadata": {},
   "outputs": [
    {
     "name": "stderr",
     "output_type": "stream",
     "text": [
      "WARNING:absl:Found untraced functions such as _jit_compiled_convolution_op, _jit_compiled_convolution_op, _jit_compiled_convolution_op while saving (showing 3 of 3). These functions will not be directly callable after loading.\n"
     ]
    },
    {
     "name": "stdout",
     "output_type": "stream",
     "text": [
      "INFO:tensorflow:Assets written to: ./models/model_1/assets\n"
     ]
    },
    {
     "name": "stderr",
     "output_type": "stream",
     "text": [
      "INFO:tensorflow:Assets written to: ./models/model_1/assets\n"
     ]
    }
   ],
   "source": [
    "model.save('./models/model_1')"
   ]
  },
  {
   "cell_type": "code",
   "execution_count": null,
   "metadata": {},
   "outputs": [],
   "source": []
  }
 ],
 "metadata": {
  "kernelspec": {
   "display_name": "Python 3.9.12 ('tf_cpu')",
   "language": "python",
   "name": "python3"
  },
  "language_info": {
   "codemirror_mode": {
    "name": "ipython",
    "version": 3
   },
   "file_extension": ".py",
   "mimetype": "text/x-python",
   "name": "python",
   "nbconvert_exporter": "python",
   "pygments_lexer": "ipython3",
   "version": "3.9.12"
  },
  "orig_nbformat": 4,
  "vscode": {
   "interpreter": {
    "hash": "eb7d1d5c7d28a202edf9d610e20cafde5837cc9e9a89c531a8a073d20c005032"
   }
  }
 },
 "nbformat": 4,
 "nbformat_minor": 2
}
